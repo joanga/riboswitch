{
 "cells": [
  {
   "cell_type": "code",
   "execution_count": 28,
   "metadata": {
    "collapsed": true
   },
   "outputs": [],
   "source": [
    "import re\n",
    "import sys"
   ]
  },
  {
   "cell_type": "code",
   "execution_count": 29,
   "metadata": {
    "collapsed": true
   },
   "outputs": [],
   "source": [
    "input_5 = open(\"thermo_sequences95.txt\", \"r\")\n",
    "output = open(\"prueba.txt\", \"w\")\n",
    "thermophilic_sequences = input_5.readlines()\n",
    "a = 4\n"
   ]
  },
  {
   "cell_type": "code",
   "execution_count": 30,
   "metadata": {
    "collapsed": false
   },
   "outputs": [
    {
     "data": {
      "text/plain": [
       "['>AE008691.1/586365-586466,Thermoanaerobacter,tengcongensis,MB4,,complete,genome.\\n',\n",
       " 'AAAAATTTAATAAGAAGCACTCATATAATCCCGAGAATATGGCTCGGGAGTCTCTACCGAACAACCGTAAAT\\n',\n",
       " 'TGTTCGACTATGAGTGAAAGTGTACCTAGG-----------------------------------------\\n',\n",
       " '>CP000557.1/264915-265016,Geobacillus,thermodenitrificans,NG80-2,,complete,genome.\\n',\n",
       " 'ATAGCGTACAAAAAAATCCCTCATATAATTTTGGGAATATGGCCCAAAAGTCTCTACCCAATAACCGTAAAT\\n',\n",
       " 'TATTGGACTATGAGGGAAAGGATCTGTTTT-----------------------------------------\\n',\n",
       " '>CP002032.1/654265-654366,Thermoanaerobacter,mathranii,subsp.,mathranii,str.,A3,,complete,genome.\\n',\n",
       " 'AATAGTTTTATTAAAGAAACTCATATAATCCCGTGAATATGGCACGGGAGTTTCTACAAAGCAGCCGTAAAC\\n',\n",
       " 'TGCTTTACTATGGGTGGAATTTGTTGTTGC-----------------------------------------\\n',\n",
       " '>AAWL01000019.1/26832-26933,Thermosinus,carboxydivorans,Nor1,ctg32,,whole,genome,shotgun,sequence.\\n',\n",
       " 'AGACAACATATTGCTCCTACTCGTATAATTTTGAGAATATGGCTCAAGAGTCTCTACCGGGCAACCGTAAAT\\n',\n",
       " 'TGCCCGACTACGAGTGAAAGTGTACCTAGG-----------------------------------------\\n',\n",
       " '>CP000557.1/256359-256460,Geobacillus,thermodenitrificans,NG80-2,,complete,genome.\\n',\n",
       " 'GTGAATATTGTCGAATTCCGTCGTATAATCCCGGGAATATGGCTCGGGAGTTTCTACCAAGCTACCGTAAAT\\n',\n",
       " 'AGCTTGACTACGAGGGATGTGAAGTAGAGG-----------------------------------------\\n',\n",
       " '>CP002835.1/1655677-1655778,Geobacillus,thermoglucosidasius,C56-YS93,,complete,genome.\\n',\n",
       " 'ACTTTATATTGCTGACTCACTCATATAATTGCAGGAATATGGCCTGCAAGTCTCTACCGGCCGACCGTAAAT\\n',\n",
       " 'CGGCCGACTATGAGTGGCAATGTCAGAGCG-----------------------------------------\\n',\n",
       " '>CP002739.1/748479-748580,Thermoanaerobacterium,xylanolyticum,LX-11,,complete,genome.\\n',\n",
       " 'CAGGACAAGTAAATAATAGCTCATATAATTCTGAGAATACGGCTCAGAAGTCTCTACCAGACAACCGTAAAT\\n',\n",
       " 'TGTCTGACTATGAGTGAAAGTGTACCTGAG-----------------------------------------\\n',\n",
       " '>AGFE01000008.1/26041-26142,Thermobacillus,composti,KWC4,ctg159,,whole,genome,shotgun,sequence.\\n',\n",
       " 'TAAATTGCATAGATCAATGCTCGTATAAGTCCGGGGATATGGCCCGGACGTCTCTACCCGGGAACCGTAAAT\\n',\n",
       " 'TCTCGGACTACGAGCCAGCGGTAACAGTGA-----------------------------------------\\n',\n",
       " '>CP002991.1/688254-688355,Thermoanaerobacter,wiegelii,Rt8.B1,,complete,genome.\\n',\n",
       " 'TAATAACTTTTTAAGAAAGTCCATATAATCCTGTGGATATGGCACGGGAGTTTCTACAAAGCAGCCGTAAAC\\n',\n",
       " 'TGCTTTACTATGGGCGGAATTTGCCATTTG-----------------------------------------\\n',\n",
       " '>CP001098.1/539421-539522,Halothermothrix,orenii,H,168,,complete,genome.\\n',\n",
       " 'ATATATCATTGTATTTTGCCTCGTATAATTGTGGAGATATGGTCCACGAGTTTCTACCGGACGGCCGTAAAC\\n',\n",
       " 'TGTTCGACTACGGGGGAAACACCTGGGATG-----------------------------------------\\n',\n",
       " '>CP000557.1/252200-252301,Geobacillus,thermodenitrificans,NG80-2,,complete,genome.\\n',\n",
       " 'ACGAACAGAACGAAAGCCTTTCATATATGCGTGGGAATATGGCTCACGTGTCTCTACCGGGCCGCCGTAAAC\\n',\n",
       " 'GGCCTGACTATGAAGGCAGAAGACGCTGCT-----------------------------------------\\n',\n",
       " '>CP001034.1/477868-477969,Natranaerobius,thermophilus,JW/NM-WN-LF,,complete,genome.\\n',\n",
       " 'CGAACTTAAACCGTAAACTCTCGTATATTTTCGGGAATAAGGCCCGAAAGTTTCTACCTAATGACCGAGAAT\\n',\n",
       " 'CATTTGGCTACGAGAGAGAAAGGGTATCTA-----------------------------------------\\n',\n",
       " '>CP002351.1/448774-448876,Thermotoga,thermarum,DSM,5069,,complete,genome.\\n',\n",
       " 'CCCACGTTGGGAGAATGCTCTTGTATAATTCCGAGAATATGGCTCGGAAGTCTCTACCGGACAGCCGTAAAC\\n',\n",
       " 'TGTCCTGGCTACAAGGGCGTAATTTTTTTAC----------------------------------------\\n',\n",
       " '>CP001145.1/87302-87403,Coprothermobacter,proteolyticus,DSM,5265,,complete,genome.\\n',\n",
       " 'TAGTCAATCATGATGTGCTCCTGTGTAATCCCCCAAATAGGGTGGGGGAGTTTCTACCTGCAGACCGTAAAT\\n',\n",
       " 'CTGCAGACCACAGGGGTGAGGAAGAAACCA-----------------------------------------\\n',\n",
       " '>CP002739.1/745210-745307,Thermoanaerobacterium,xylanolyticum,LX-11,,complete,genome.\\n',\n",
       " 'TTAATAATAAAATCTTATCCGCATATAATCTGGTGAATAGGCACTGGAGTATCTACAAAGAGCCGTAACTCT\\n',\n",
       " 'TTACTATGGGGAGTTATTGTTGTACT---------------------------------------------\\n',\n",
       " '>FR875178.1/1299196-1299291,Streptococcus,thermophilus,JIM,8232,complete,genome\\n',\n",
       " 'TCAAACAATGAGAACATTACTTATTTATGTCACGAATGGGCGTGACGTTTCTACAAGGTGCCGTAACACCTA\\n',\n",
       " 'ACAATAAGTAAGCTAATTTAGTCA-----------------------------------------------\\n']"
      ]
     },
     "execution_count": 30,
     "metadata": {},
     "output_type": "execute_result"
    }
   ],
   "source": [
    "thermophilic_sequences"
   ]
  },
  {
   "cell_type": "code",
   "execution_count": 31,
   "metadata": {
    "collapsed": true
   },
   "outputs": [],
   "source": [
    "number_of_seqs = 0\n",
    "line_number = 0\n",
    "termo_gcs=[]\n",
    "for line in thermophilic_sequences:    \n",
    "    if line[0].startswith(\">\"):      \n",
    "        number_of_seqs = number_of_seqs + 1\n",
    "        term_ribo = (thermophilic_sequences[line_number + 1]).rstrip(\"\\n\") + (thermophilic_sequences[line_number + 1]).rstrip(\"\\n\")\n",
    "        GCcontent = round((((term_ribo.count(\"G\") + term_ribo.count(\"C\"))/len(term_ribo))*100),2)\n",
    "        termo_gcs.append(GCcontent)\n",
    "        output.write(str(line))\n",
    "        output.write(\"The GC content is: \" + str(GCcontent) + \"\\n\")\n",
    "        output.write(str(term_ribo) + \"\\n\")\n",
    "        \n",
    "    line_number = line_number + 1 "
   ]
  },
  {
   "cell_type": "code",
   "execution_count": 32,
   "metadata": {
    "collapsed": false
   },
   "outputs": [
    {
     "data": {
      "text/plain": [
       "79"
      ]
     },
     "execution_count": 32,
     "metadata": {},
     "output_type": "execute_result"
    }
   ],
   "source": [
    "GC_average = round((sum(termo_gcs))/len(termo_gcs),1)\n",
    "output.write(\"There are %i sequences in this file, the average GC content is %i percent\"%(number_of_seqs,GC_average))\n"
   ]
  },
  {
   "cell_type": "code",
   "execution_count": 33,
   "metadata": {
    "collapsed": false
   },
   "outputs": [
    {
     "data": {
      "text/plain": [
       "41.6"
      ]
     },
     "execution_count": 33,
     "metadata": {},
     "output_type": "execute_result"
    }
   ],
   "source": [
    "GC_average"
   ]
  },
  {
   "cell_type": "code",
   "execution_count": 34,
   "metadata": {
    "collapsed": false
   },
   "outputs": [
    {
     "data": {
      "text/plain": [
       "16"
      ]
     },
     "execution_count": 34,
     "metadata": {},
     "output_type": "execute_result"
    }
   ],
   "source": [
    "number_of_seqs"
   ]
  },
  {
   "cell_type": "code",
   "execution_count": null,
   "metadata": {
    "collapsed": true
   },
   "outputs": [],
   "source": []
  }
 ],
 "metadata": {
  "kernelspec": {
   "display_name": "Python 3",
   "language": "python",
   "name": "python3"
  },
  "language_info": {
   "codemirror_mode": {
    "name": "ipython",
    "version": 3
   },
   "file_extension": ".py",
   "mimetype": "text/x-python",
   "name": "python",
   "nbconvert_exporter": "python",
   "pygments_lexer": "ipython3",
   "version": "3.5.1"
  }
 },
 "nbformat": 4,
 "nbformat_minor": 0
}
